{
  "nbformat": 4,
  "nbformat_minor": 0,
  "metadata": {
    "colab": {
      "provenance": []
    },
    "kernelspec": {
      "name": "python3",
      "display_name": "Python 3"
    },
    "language_info": {
      "name": "python"
    }
  },
  "cells": [
    {
      "cell_type": "markdown",
      "source": [
        "#Introduction\n",
        "After following these steps, you'll be able to create a smaller subset from your dataset like the one below. The original dataset contains information about environmental pollutants in various regions across the United States from the Environmental Protection Agency. By using the following python techniques in the step by step guide, you'll narrow down specific data points to further analyse."
      ],
      "metadata": {
        "id": "AxiRlMQlKdiH"
      }
    },
    {
      "cell_type": "markdown",
      "source": [
        "###*Getting Started*\n",
        "1. Naviagate to the National Environmental Protection Agency's site and download the Air Emissions CSV file.\n",
        "2. Create a folder on your computer containing your dataset file. This folder will also store the subset you're going to create.\n",
        "3. Open a new notebook in Google CoLab, attach the CSV file.\n",
        "\n",
        "\n",
        "Before starting, knowing basics about python is essential to creating your finalized data set.\n",
        "\n",
        "\n",
        "**Python Basics**\n",
        "1. Using the alphabet in coding to make words and sentences is called  **string or str** and should be entered in quotation marks inside of square brackets. example: `[\"string\"]`\n",
        "2. Using numbers in coding is called **integer or int** and is also entered in square brackets. `[1234]`\n",
        "3. To write multiple numbers or multiple texts, seperate each by a comma. example: `[\"hi\", \"bye\"]` or `[1, 2]`\n",
        "4. To use a combination of strings and integers, seperate them by brackets. example: `[\"hello\"][1, 2]`"
      ],
      "metadata": {
        "id": "0NerQnp3MxtW"
      }
    },
    {
      "cell_type": "markdown",
      "source": [
        "\n",
        "###*NP and PD*\n",
        "1. Add a code and begin by wriing: `import numpy as np`\n",
        "2. Following this, in the same code frame write: `import panda as pd`\n",
        "\n",
        "The numpy package will allow pandas to complete mathmatical functions while the pandas package allows us to store data."
      ],
      "metadata": {
        "id": "4Z5w8fAvMwdl"
      }
    },
    {
      "cell_type": "code",
      "execution_count": 2,
      "metadata": {
        "id": "-xXMZDrvWy5K"
      },
      "outputs": [],
      "source": [
        "import numpy as np\n",
        "import pandas as pd"
      ]
    },
    {
      "cell_type": "markdown",
      "source": [
        "##*Working with the Data*\n",
        "Before we proceed, we need to read the data as a CSV file. Define the data by assigning it to a variable (df). I used df to refer to the term Data Frame. Use the read_csv function to create a pathway from the defined variable to the name of the CSV file. In this case, the CSV file name is air_emissions1.csv."
      ],
      "metadata": {
        "id": "8xl8yxt4Q-8U"
      }
    },
    {
      "cell_type": "code",
      "source": [
        "df=pd.read_csv(\"air_emissions1.csv\")"
      ],
      "metadata": {
        "id": "yd75nZvlW7q9"
      },
      "execution_count": 3,
      "outputs": []
    },
    {
      "cell_type": "markdown",
      "source": [
        "##*Identifying Data*\n",
        "**Columns and Rows**\n",
        "\n",
        "Using different functions, you can identify different types of data and pinpoint where it belongs.\n",
        "Creating the code, `df.columns` prints every columns name."
      ],
      "metadata": {
        "id": "huwqGP6OSQlq"
      }
    },
    {
      "cell_type": "code",
      "source": [
        "df.columns"
      ],
      "metadata": {
        "colab": {
          "base_uri": "https://localhost:8080/"
        },
        "id": "YBsy7fnMIfJG",
        "outputId": "350a4774-8113-481d-9c5b-3ee05976a931"
      },
      "execution_count": 4,
      "outputs": [
        {
          "output_type": "execute_result",
          "data": {
            "text/plain": [
              "Index(['Facility Id', 'FRS Id', 'Facility Name', 'State where Emissions Occur',\n",
              "       'Reported City', 'Reported State', 'Reported Zip Code',\n",
              "       'Reported Address', 'Reported County', 'Reported Latitude',\n",
              "       'Reported Longitude',\n",
              "       'Total reported direct emissions from Local Distribution Companies',\n",
              "       'Carbon emissions (non-biogenic)', 'Methane (CH4) emissions',\n",
              "       'Nitrous Oxide (N2O) emissions',\n",
              "       'Does the facility employ continuous emissions monitoring? '],\n",
              "      dtype='object')"
            ]
          },
          "metadata": {},
          "execution_count": 4
        }
      ]
    },
    {
      "cell_type": "markdown",
      "source": [
        "**Data Types**\n",
        "\n",
        "Creating the code, `df.dtypes` prints the code type of each column. For example, if a column contains numbers, this will print `int`.\n",
        "\n",
        "Knowing what type of data you are working with can be helpful when you are creating a dataset."
      ],
      "metadata": {
        "id": "DdvyfVRUTWnP"
      }
    },
    {
      "cell_type": "code",
      "source": [
        "df.dtypes"
      ],
      "metadata": {
        "colab": {
          "base_uri": "https://localhost:8080/"
        },
        "id": "RndDnt7nIvYa",
        "outputId": "e9c14875-b926-4b45-8f06-855757abce78"
      },
      "execution_count": 5,
      "outputs": [
        {
          "output_type": "execute_result",
          "data": {
            "text/plain": [
              "Facility Id                                                            int64\n",
              "FRS Id                                                               float64\n",
              "Facility Name                                                         object\n",
              "State where Emissions Occur                                           object\n",
              "Reported City                                                         object\n",
              "Reported State                                                        object\n",
              "Reported Zip Code                                                      int64\n",
              "Reported Address                                                      object\n",
              "Reported County                                                       object\n",
              "Reported Latitude                                                    float64\n",
              "Reported Longitude                                                   float64\n",
              "Total reported direct emissions from Local Distribution Companies    float64\n",
              "Carbon emissions (non-biogenic)                                      float64\n",
              "Methane (CH4) emissions                                              float64\n",
              "Nitrous Oxide (N2O) emissions                                        float64\n",
              "Does the facility employ continuous emissions monitoring?             object\n",
              "dtype: object"
            ]
          },
          "metadata": {},
          "execution_count": 5
        }
      ]
    },
    {
      "cell_type": "markdown",
      "source": [
        "**Accessing Data Points**\n",
        "\n",
        "Creating the code, `df.iloc[row, column]` prints the item that the row and column you are identifying.\n",
        "\n",
        "This code allows you to access specific data points within a DataFrame. This capability is crucial for data manipulation and analysis tasks in Python, especially when working with large datasets.\n",
        "\n",
        "I used the 4th row and the 8th column which displays the 4th Facility ID and the 8th County."
      ],
      "metadata": {
        "id": "5sFBAy3e0zrk"
      }
    },
    {
      "cell_type": "code",
      "source": [
        "df.iloc[4, 8]"
      ],
      "metadata": {
        "colab": {
          "base_uri": "https://localhost:8080/",
          "height": 35
        },
        "id": "Udw5od61JmrV",
        "outputId": "d6b91f8d-679a-4dbb-d503-7170ae3f99f5"
      },
      "execution_count": 6,
      "outputs": [
        {
          "output_type": "execute_result",
          "data": {
            "text/plain": [
              "'DALLAS COUNTY'"
            ],
            "application/vnd.google.colaboratory.intrinsic+json": {
              "type": "string"
            }
          },
          "metadata": {},
          "execution_count": 6
        }
      ]
    },
    {
      "cell_type": "markdown",
      "source": [
        "Another way to access data points is to pinpoint the column name of the data you want to see. Create the code `df[\"column name\"]`. I chose to see the carbon emissions column to veiw the data connected to the locations. This can be used with any data title.\n",
        "\n",
        "The column name should be entered as a str."
      ],
      "metadata": {
        "id": "mjwai03x18kc"
      }
    },
    {
      "cell_type": "code",
      "source": [
        "df[\"Carbon emissions (non-biogenic)\"]"
      ],
      "metadata": {
        "colab": {
          "base_uri": "https://localhost:8080/"
        },
        "id": "fzWbdf_aI833",
        "outputId": "8c68acde-f35c-4f25-f982-59fa04b94cc3"
      },
      "execution_count": 7,
      "outputs": [
        {
          "output_type": "execute_result",
          "data": {
            "text/plain": [
              "0       1102.6\n",
              "1         17.9\n",
              "2      11793.4\n",
              "3         19.3\n",
              "4         28.1\n",
              "        ...   \n",
              "160       72.6\n",
              "161       37.9\n",
              "162      162.6\n",
              "163      444.6\n",
              "164       55.9\n",
              "Name: Carbon emissions (non-biogenic), Length: 165, dtype: float64"
            ]
          },
          "metadata": {},
          "execution_count": 7
        }
      ]
    },
    {
      "cell_type": "markdown",
      "source": [
        "**Pinpointing Data Points within a Column**\n",
        "\n",
        "Creating the code, `df[\"column name\"][row start number:row end number`] prints the exact column and row numbers you need. This code allows you to access specific data points within a DataFrame. This capability is crucial for data manipulation and analysis tasks in Python, especially when working with large datasets.\n",
        "\n",
        "The column name should be entered as a str and the row numbers should be entered as int."
      ],
      "metadata": {
        "id": "bPAnEU6ruhzG"
      }
    },
    {
      "cell_type": "code",
      "source": [
        "df[\"Carbon emissions (non-biogenic)\"][20:30]"
      ],
      "metadata": {
        "colab": {
          "base_uri": "https://localhost:8080/"
        },
        "id": "jM2zP87KJecQ",
        "outputId": "ff039ca3-4136-4460-8377-5b2f05899b8a"
      },
      "execution_count": 8,
      "outputs": [
        {
          "output_type": "execute_result",
          "data": {
            "text/plain": [
              "20     35.1\n",
              "21      0.7\n",
              "22    674.7\n",
              "23      1.4\n",
              "24     19.2\n",
              "25      2.0\n",
              "26     16.9\n",
              "27     23.7\n",
              "28    200.4\n",
              "29     81.2\n",
              "Name: Carbon emissions (non-biogenic), dtype: float64"
            ]
          },
          "metadata": {},
          "execution_count": 8
        }
      ]
    },
    {
      "cell_type": "markdown",
      "source": [
        "##Final Data\n",
        "\n",
        "This is where you will utilize the previous skills to create your final data set that you would use. Since you only wanted to veiw certain catagories, you want to identify which columns and rows needed in order to create this set.\n",
        "\n",
        "The code you will use to do this will be as follows:\n",
        "\n",
        "`df.loc[row start number, row end number,[column 1, column 2, column 3, column 4]]`\n",
        "\n",
        "The row start and end number should be entered as an int, while the columns should be entered as strings."
      ],
      "metadata": {
        "id": "Y7QIaqroJteC"
      }
    },
    {
      "cell_type": "code",
      "source": [
        "df.loc[0:165,[\"Facility Name\", \"State where Emissions Occur\", \"Reported County\", \"Carbon emissions (non-biogenic)\"]]"
      ],
      "metadata": {
        "colab": {
          "base_uri": "https://localhost:8080/",
          "height": 606
        },
        "id": "CzmT9yIidy_k",
        "outputId": "440fe254-66e5-4abc-a643-0ab07c081a79"
      },
      "execution_count": 15,
      "outputs": [
        {
          "output_type": "execute_result",
          "data": {
            "text/plain": [
              "                                Facility Name State where Emissions Occur  \\\n",
              "0                             Ameren Illinois                          IL   \n",
              "1                             Ameren Missouri                          MO   \n",
              "2                   Atlanta Gas Light Company                          GA   \n",
              "3         Atmos Energy Corporation - Colorado                          CO   \n",
              "4           Atmos Energy Corporation - Kansas                          KS   \n",
              "..                                        ...                         ...   \n",
              "160         Washington Gas Light Company (VA)                          VA   \n",
              "161               West Texas Gas Utility, LLC                          TX   \n",
              "162  Wisconsin Power & Light Gas Distribution                          WI   \n",
              "163      Wisconsin Public Service Corporation                          WI   \n",
              "164                         Yankee Gas Supply                          CT   \n",
              "\n",
              "     Reported County  Carbon emissions (non-biogenic)  \n",
              "0      PEORIA COUNTY                           1102.6  \n",
              "1     ST. LOUIS CITY                             17.9  \n",
              "2      FULTON COUNTY                          11793.4  \n",
              "3      DALLAS COUNTY                             19.3  \n",
              "4      DALLAS COUNTY                             28.1  \n",
              "..               ...                              ...  \n",
              "160   FAIRFAX COUNTY                             72.6  \n",
              "161   MIDLAND COUNTY                             37.9  \n",
              "162      DANE COUNTY                            162.6  \n",
              "163     BROWN COUNTY                            444.6  \n",
              "164  HARTFORD COUNTY                             55.9  \n",
              "\n",
              "[165 rows x 4 columns]"
            ],
            "text/html": [
              "\n",
              "  <div id=\"df-a3594d23-859c-4ef8-93e9-6665ba78165a\" class=\"colab-df-container\">\n",
              "    <div>\n",
              "<style scoped>\n",
              "    .dataframe tbody tr th:only-of-type {\n",
              "        vertical-align: middle;\n",
              "    }\n",
              "\n",
              "    .dataframe tbody tr th {\n",
              "        vertical-align: top;\n",
              "    }\n",
              "\n",
              "    .dataframe thead th {\n",
              "        text-align: right;\n",
              "    }\n",
              "</style>\n",
              "<table border=\"1\" class=\"dataframe\">\n",
              "  <thead>\n",
              "    <tr style=\"text-align: right;\">\n",
              "      <th></th>\n",
              "      <th>Facility Name</th>\n",
              "      <th>State where Emissions Occur</th>\n",
              "      <th>Reported County</th>\n",
              "      <th>Carbon emissions (non-biogenic)</th>\n",
              "    </tr>\n",
              "  </thead>\n",
              "  <tbody>\n",
              "    <tr>\n",
              "      <th>0</th>\n",
              "      <td>Ameren Illinois</td>\n",
              "      <td>IL</td>\n",
              "      <td>PEORIA COUNTY</td>\n",
              "      <td>1102.6</td>\n",
              "    </tr>\n",
              "    <tr>\n",
              "      <th>1</th>\n",
              "      <td>Ameren Missouri</td>\n",
              "      <td>MO</td>\n",
              "      <td>ST. LOUIS CITY</td>\n",
              "      <td>17.9</td>\n",
              "    </tr>\n",
              "    <tr>\n",
              "      <th>2</th>\n",
              "      <td>Atlanta Gas Light Company</td>\n",
              "      <td>GA</td>\n",
              "      <td>FULTON COUNTY</td>\n",
              "      <td>11793.4</td>\n",
              "    </tr>\n",
              "    <tr>\n",
              "      <th>3</th>\n",
              "      <td>Atmos Energy Corporation - Colorado</td>\n",
              "      <td>CO</td>\n",
              "      <td>DALLAS COUNTY</td>\n",
              "      <td>19.3</td>\n",
              "    </tr>\n",
              "    <tr>\n",
              "      <th>4</th>\n",
              "      <td>Atmos Energy Corporation - Kansas</td>\n",
              "      <td>KS</td>\n",
              "      <td>DALLAS COUNTY</td>\n",
              "      <td>28.1</td>\n",
              "    </tr>\n",
              "    <tr>\n",
              "      <th>...</th>\n",
              "      <td>...</td>\n",
              "      <td>...</td>\n",
              "      <td>...</td>\n",
              "      <td>...</td>\n",
              "    </tr>\n",
              "    <tr>\n",
              "      <th>160</th>\n",
              "      <td>Washington Gas Light Company (VA)</td>\n",
              "      <td>VA</td>\n",
              "      <td>FAIRFAX COUNTY</td>\n",
              "      <td>72.6</td>\n",
              "    </tr>\n",
              "    <tr>\n",
              "      <th>161</th>\n",
              "      <td>West Texas Gas Utility, LLC</td>\n",
              "      <td>TX</td>\n",
              "      <td>MIDLAND COUNTY</td>\n",
              "      <td>37.9</td>\n",
              "    </tr>\n",
              "    <tr>\n",
              "      <th>162</th>\n",
              "      <td>Wisconsin Power &amp; Light Gas Distribution</td>\n",
              "      <td>WI</td>\n",
              "      <td>DANE COUNTY</td>\n",
              "      <td>162.6</td>\n",
              "    </tr>\n",
              "    <tr>\n",
              "      <th>163</th>\n",
              "      <td>Wisconsin Public Service Corporation</td>\n",
              "      <td>WI</td>\n",
              "      <td>BROWN COUNTY</td>\n",
              "      <td>444.6</td>\n",
              "    </tr>\n",
              "    <tr>\n",
              "      <th>164</th>\n",
              "      <td>Yankee Gas Supply</td>\n",
              "      <td>CT</td>\n",
              "      <td>HARTFORD COUNTY</td>\n",
              "      <td>55.9</td>\n",
              "    </tr>\n",
              "  </tbody>\n",
              "</table>\n",
              "<p>165 rows × 4 columns</p>\n",
              "</div>\n",
              "    <div class=\"colab-df-buttons\">\n",
              "\n",
              "  <div class=\"colab-df-container\">\n",
              "    <button class=\"colab-df-convert\" onclick=\"convertToInteractive('df-a3594d23-859c-4ef8-93e9-6665ba78165a')\"\n",
              "            title=\"Convert this dataframe to an interactive table.\"\n",
              "            style=\"display:none;\">\n",
              "\n",
              "  <svg xmlns=\"http://www.w3.org/2000/svg\" height=\"24px\" viewBox=\"0 -960 960 960\">\n",
              "    <path d=\"M120-120v-720h720v720H120Zm60-500h600v-160H180v160Zm220 220h160v-160H400v160Zm0 220h160v-160H400v160ZM180-400h160v-160H180v160Zm440 0h160v-160H620v160ZM180-180h160v-160H180v160Zm440 0h160v-160H620v160Z\"/>\n",
              "  </svg>\n",
              "    </button>\n",
              "\n",
              "  <style>\n",
              "    .colab-df-container {\n",
              "      display:flex;\n",
              "      gap: 12px;\n",
              "    }\n",
              "\n",
              "    .colab-df-convert {\n",
              "      background-color: #E8F0FE;\n",
              "      border: none;\n",
              "      border-radius: 50%;\n",
              "      cursor: pointer;\n",
              "      display: none;\n",
              "      fill: #1967D2;\n",
              "      height: 32px;\n",
              "      padding: 0 0 0 0;\n",
              "      width: 32px;\n",
              "    }\n",
              "\n",
              "    .colab-df-convert:hover {\n",
              "      background-color: #E2EBFA;\n",
              "      box-shadow: 0px 1px 2px rgba(60, 64, 67, 0.3), 0px 1px 3px 1px rgba(60, 64, 67, 0.15);\n",
              "      fill: #174EA6;\n",
              "    }\n",
              "\n",
              "    .colab-df-buttons div {\n",
              "      margin-bottom: 4px;\n",
              "    }\n",
              "\n",
              "    [theme=dark] .colab-df-convert {\n",
              "      background-color: #3B4455;\n",
              "      fill: #D2E3FC;\n",
              "    }\n",
              "\n",
              "    [theme=dark] .colab-df-convert:hover {\n",
              "      background-color: #434B5C;\n",
              "      box-shadow: 0px 1px 3px 1px rgba(0, 0, 0, 0.15);\n",
              "      filter: drop-shadow(0px 1px 2px rgba(0, 0, 0, 0.3));\n",
              "      fill: #FFFFFF;\n",
              "    }\n",
              "  </style>\n",
              "\n",
              "    <script>\n",
              "      const buttonEl =\n",
              "        document.querySelector('#df-a3594d23-859c-4ef8-93e9-6665ba78165a button.colab-df-convert');\n",
              "      buttonEl.style.display =\n",
              "        google.colab.kernel.accessAllowed ? 'block' : 'none';\n",
              "\n",
              "      async function convertToInteractive(key) {\n",
              "        const element = document.querySelector('#df-a3594d23-859c-4ef8-93e9-6665ba78165a');\n",
              "        const dataTable =\n",
              "          await google.colab.kernel.invokeFunction('convertToInteractive',\n",
              "                                                    [key], {});\n",
              "        if (!dataTable) return;\n",
              "\n",
              "        const docLinkHtml = 'Like what you see? Visit the ' +\n",
              "          '<a target=\"_blank\" href=https://colab.research.google.com/notebooks/data_table.ipynb>data table notebook</a>'\n",
              "          + ' to learn more about interactive tables.';\n",
              "        element.innerHTML = '';\n",
              "        dataTable['output_type'] = 'display_data';\n",
              "        await google.colab.output.renderOutput(dataTable, element);\n",
              "        const docLink = document.createElement('div');\n",
              "        docLink.innerHTML = docLinkHtml;\n",
              "        element.appendChild(docLink);\n",
              "      }\n",
              "    </script>\n",
              "  </div>\n",
              "\n",
              "\n",
              "<div id=\"df-3b899ba4-5a18-407c-ac0f-b622554f845d\">\n",
              "  <button class=\"colab-df-quickchart\" onclick=\"quickchart('df-3b899ba4-5a18-407c-ac0f-b622554f845d')\"\n",
              "            title=\"Suggest charts\"\n",
              "            style=\"display:none;\">\n",
              "\n",
              "<svg xmlns=\"http://www.w3.org/2000/svg\" height=\"24px\"viewBox=\"0 0 24 24\"\n",
              "     width=\"24px\">\n",
              "    <g>\n",
              "        <path d=\"M19 3H5c-1.1 0-2 .9-2 2v14c0 1.1.9 2 2 2h14c1.1 0 2-.9 2-2V5c0-1.1-.9-2-2-2zM9 17H7v-7h2v7zm4 0h-2V7h2v10zm4 0h-2v-4h2v4z\"/>\n",
              "    </g>\n",
              "</svg>\n",
              "  </button>\n",
              "\n",
              "<style>\n",
              "  .colab-df-quickchart {\n",
              "      --bg-color: #E8F0FE;\n",
              "      --fill-color: #1967D2;\n",
              "      --hover-bg-color: #E2EBFA;\n",
              "      --hover-fill-color: #174EA6;\n",
              "      --disabled-fill-color: #AAA;\n",
              "      --disabled-bg-color: #DDD;\n",
              "  }\n",
              "\n",
              "  [theme=dark] .colab-df-quickchart {\n",
              "      --bg-color: #3B4455;\n",
              "      --fill-color: #D2E3FC;\n",
              "      --hover-bg-color: #434B5C;\n",
              "      --hover-fill-color: #FFFFFF;\n",
              "      --disabled-bg-color: #3B4455;\n",
              "      --disabled-fill-color: #666;\n",
              "  }\n",
              "\n",
              "  .colab-df-quickchart {\n",
              "    background-color: var(--bg-color);\n",
              "    border: none;\n",
              "    border-radius: 50%;\n",
              "    cursor: pointer;\n",
              "    display: none;\n",
              "    fill: var(--fill-color);\n",
              "    height: 32px;\n",
              "    padding: 0;\n",
              "    width: 32px;\n",
              "  }\n",
              "\n",
              "  .colab-df-quickchart:hover {\n",
              "    background-color: var(--hover-bg-color);\n",
              "    box-shadow: 0 1px 2px rgba(60, 64, 67, 0.3), 0 1px 3px 1px rgba(60, 64, 67, 0.15);\n",
              "    fill: var(--button-hover-fill-color);\n",
              "  }\n",
              "\n",
              "  .colab-df-quickchart-complete:disabled,\n",
              "  .colab-df-quickchart-complete:disabled:hover {\n",
              "    background-color: var(--disabled-bg-color);\n",
              "    fill: var(--disabled-fill-color);\n",
              "    box-shadow: none;\n",
              "  }\n",
              "\n",
              "  .colab-df-spinner {\n",
              "    border: 2px solid var(--fill-color);\n",
              "    border-color: transparent;\n",
              "    border-bottom-color: var(--fill-color);\n",
              "    animation:\n",
              "      spin 1s steps(1) infinite;\n",
              "  }\n",
              "\n",
              "  @keyframes spin {\n",
              "    0% {\n",
              "      border-color: transparent;\n",
              "      border-bottom-color: var(--fill-color);\n",
              "      border-left-color: var(--fill-color);\n",
              "    }\n",
              "    20% {\n",
              "      border-color: transparent;\n",
              "      border-left-color: var(--fill-color);\n",
              "      border-top-color: var(--fill-color);\n",
              "    }\n",
              "    30% {\n",
              "      border-color: transparent;\n",
              "      border-left-color: var(--fill-color);\n",
              "      border-top-color: var(--fill-color);\n",
              "      border-right-color: var(--fill-color);\n",
              "    }\n",
              "    40% {\n",
              "      border-color: transparent;\n",
              "      border-right-color: var(--fill-color);\n",
              "      border-top-color: var(--fill-color);\n",
              "    }\n",
              "    60% {\n",
              "      border-color: transparent;\n",
              "      border-right-color: var(--fill-color);\n",
              "    }\n",
              "    80% {\n",
              "      border-color: transparent;\n",
              "      border-right-color: var(--fill-color);\n",
              "      border-bottom-color: var(--fill-color);\n",
              "    }\n",
              "    90% {\n",
              "      border-color: transparent;\n",
              "      border-bottom-color: var(--fill-color);\n",
              "    }\n",
              "  }\n",
              "</style>\n",
              "\n",
              "  <script>\n",
              "    async function quickchart(key) {\n",
              "      const quickchartButtonEl =\n",
              "        document.querySelector('#' + key + ' button');\n",
              "      quickchartButtonEl.disabled = true;  // To prevent multiple clicks.\n",
              "      quickchartButtonEl.classList.add('colab-df-spinner');\n",
              "      try {\n",
              "        const charts = await google.colab.kernel.invokeFunction(\n",
              "            'suggestCharts', [key], {});\n",
              "      } catch (error) {\n",
              "        console.error('Error during call to suggestCharts:', error);\n",
              "      }\n",
              "      quickchartButtonEl.classList.remove('colab-df-spinner');\n",
              "      quickchartButtonEl.classList.add('colab-df-quickchart-complete');\n",
              "    }\n",
              "    (() => {\n",
              "      let quickchartButtonEl =\n",
              "        document.querySelector('#df-3b899ba4-5a18-407c-ac0f-b622554f845d button');\n",
              "      quickchartButtonEl.style.display =\n",
              "        google.colab.kernel.accessAllowed ? 'block' : 'none';\n",
              "    })();\n",
              "  </script>\n",
              "</div>\n",
              "\n",
              "    </div>\n",
              "  </div>\n"
            ],
            "application/vnd.google.colaboratory.intrinsic+json": {
              "type": "dataframe",
              "summary": "{\n  \"name\": \"df\",\n  \"rows\": 165,\n  \"fields\": [\n    {\n      \"column\": \"Facility Name\",\n      \"properties\": {\n        \"dtype\": \"string\",\n        \"num_unique_values\": 165,\n        \"samples\": [\n          \"Southwest Gas - Arizona\",\n          \"PSNC\",\n          \"Sandpiper Energy\"\n        ],\n        \"semantic_type\": \"\",\n        \"description\": \"\"\n      }\n    },\n    {\n      \"column\": \"State where Emissions Occur\",\n      \"properties\": {\n        \"dtype\": \"category\",\n        \"num_unique_values\": 46,\n        \"samples\": [\n          \"OK\",\n          \"SC\",\n          \"AL\"\n        ],\n        \"semantic_type\": \"\",\n        \"description\": \"\"\n      }\n    },\n    {\n      \"column\": \"Reported County\",\n      \"properties\": {\n        \"dtype\": \"string\",\n        \"num_unique_values\": 114,\n        \"samples\": [\n          \"SAN FRANCISCO COUNTY\",\n          \"SPOKANE COUNTY\",\n          \"HARRISON COUNTY\"\n        ],\n        \"semantic_type\": \"\",\n        \"description\": \"\"\n      }\n    },\n    {\n      \"column\": \"Carbon emissions (non-biogenic)\",\n      \"properties\": {\n        \"dtype\": \"number\",\n        \"std\": 6051.071380795462,\n        \"min\": 0.0,\n        \"max\": 63095.1,\n        \"num_unique_values\": 149,\n        \"samples\": [\n          114.1,\n          442.6,\n          1530.7\n        ],\n        \"semantic_type\": \"\",\n        \"description\": \"\"\n      }\n    }\n  ]\n}"
            }
          },
          "metadata": {},
          "execution_count": 15
        }
      ]
    },
    {
      "cell_type": "markdown",
      "source": [
        "##Exporting your New Subset\n",
        "After creating your new subset using your old data, you need to call to the csv so that it is identified and can be exported. I named this, `df_subset`. This code will create a new DataFrame df_subset containing the specified columns and rows from your original DataFrame df.\n",
        "\n",
        "Now, it is ready to be exported as a CSV file for use.\n",
        "\n",
        "To do this we can use the method .to_csv(). After this, write the function index=false indicates that the values from the original data set should be cut off."
      ],
      "metadata": {
        "id": "ew74Rb-0TErt"
      }
    },
    {
      "cell_type": "code",
      "source": [
        "df_subset = df.loc[0:165,[\"Facility Name\", \"State where Emissions Occur\", \"Reported County\", \"Carbon emissions (non-biogenic)\"]]"
      ],
      "metadata": {
        "id": "LsWL01XrVW0Q"
      },
      "execution_count": 18,
      "outputs": []
    },
    {
      "cell_type": "code",
      "source": [
        "df_subset.to_csv(\"co2.csv\", index=False)"
      ],
      "metadata": {
        "id": "q5HQoXa1n9oF"
      },
      "execution_count": 20,
      "outputs": []
    }
  ]
}